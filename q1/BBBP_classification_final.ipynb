{
  "metadata": {
    "accelerator": "GPU",
    "colab": {
      "provenance": [],
      "gpuType": "T4"
    },
    "kernelspec": {
      "name": "python3",
      "display_name": "Python 3",
      "language": "python"
    },
    "language_info": {
      "name": "python",
      "version": "3.10.12",
      "mimetype": "text/x-python",
      "codemirror_mode": {
        "name": "ipython",
        "version": 3
      },
      "pygments_lexer": "ipython3",
      "nbconvert_exporter": "python",
      "file_extension": ".py"
    },
    "kaggle": {
      "accelerator": "gpu",
      "dataSources": [
        {
          "sourceId": 7332089,
          "sourceType": "datasetVersion",
          "datasetId": 4256320
        }
      ],
      "dockerImageVersionId": 30627,
      "isInternetEnabled": true,
      "language": "python",
      "sourceType": "notebook",
      "isGpuEnabled": true
    }
  },
  "nbformat_minor": 0,
  "nbformat": 4,
  "cells": [
    {
      "cell_type": "code",
      "source": [
        "import pandas as pd\n",
        "import numpy as np\n",
        "import matplotlib.pyplot as plt\n",
        "import seaborn as sns\n",
        "import torch\n",
        "from torch import nn\n",
        "from torch import optim\n",
        "import torch.nn.functional as F\n",
        "from torch.utils.data import Dataset, DataLoader, random_split\n",
        "import torchvision.transforms as transforms\n",
        "from torch.nn.utils import clip_grad_norm_\n",
        "from collections import Counter\n",
        "from sklearn.metrics import accuracy_score, roc_auc_score\n",
        "import re"
      ],
      "metadata": {
        "id": "70MvR_mSaCj8",
        "execution": {
          "iopub.status.busy": "2024-01-06T05:52:49.522243Z",
          "iopub.execute_input": "2024-01-06T05:52:49.522980Z",
          "iopub.status.idle": "2024-01-06T05:52:54.984987Z",
          "shell.execute_reply.started": "2024-01-06T05:52:49.522948Z",
          "shell.execute_reply": "2024-01-06T05:52:54.984115Z"
        },
        "trusted": true,
        "outputId": "4de30103-047b-4f5c-c7d6-2ac73dbee668"
      },
      "execution_count": null,
      "outputs": [
        {
          "name": "stderr",
          "text": "/opt/conda/lib/python3.10/site-packages/scipy/__init__.py:146: UserWarning: A NumPy version >=1.16.5 and <1.23.0 is required for this version of SciPy (detected version 1.24.3\n  warnings.warn(f\"A NumPy version >={np_minversion} and <{np_maxversion}\"\n",
          "output_type": "stream"
        }
      ]
    },
    {
      "cell_type": "code",
      "source": [
        "device = 'cuda' if torch.cuda.is_available() else 'cpu'\n",
        "device"
      ],
      "metadata": {
        "colab": {
          "base_uri": "https://localhost:8080/",
          "height": 35
        },
        "id": "RY2lUfYydNEq",
        "outputId": "14c618dc-b83e-4ce1-bf41-ec413f20d99e",
        "execution": {
          "iopub.status.busy": "2024-01-06T05:52:54.986637Z",
          "iopub.execute_input": "2024-01-06T05:52:54.987100Z",
          "iopub.status.idle": "2024-01-06T05:52:55.017343Z",
          "shell.execute_reply.started": "2024-01-06T05:52:54.987071Z",
          "shell.execute_reply": "2024-01-06T05:52:55.016404Z"
        },
        "trusted": true
      },
      "execution_count": null,
      "outputs": [
        {
          "execution_count": 2,
          "output_type": "execute_result",
          "data": {
            "text/plain": "'cuda'"
          },
          "metadata": {}
        }
      ]
    },
    {
      "cell_type": "markdown",
      "source": [
        "#prepare data"
      ],
      "metadata": {
        "id": "poiOdeZbdZ1O"
      }
    },
    {
      "cell_type": "code",
      "source": [
        "data_path = '/kaggle/input/bbbp-csv/BBBP.csv'\n",
        "class Dataset_BBBP(Dataset):\n",
        "    def __init__(self, data_path):\n",
        "        super().__init__()\n",
        "        self.df = pd.read_csv(data_path, index_col = 'num')\n",
        "        print('the first 5 data of the dataset without padding')\n",
        "        print('------------------------------------------------')\n",
        "        display(self.df.head())\n",
        "        self.labels = self.df['p_np']\n",
        "        self.smiles = self.df['smiles']\n",
        "        self.tokens_freq = {}\n",
        "        self.token_to_val = {}\n",
        "        self.max_length = 1\n",
        "        self.lengths = []\n",
        "\n",
        "        self._find_max_and_store_length()\n",
        "        self._calc_tokens_freq_and_vals()\n",
        "\n",
        "    def __len__(self):\n",
        "        return len(self.df)\n",
        "\n",
        "    def plot_distribution(self):\n",
        "        '''\n",
        "        plot the distribution of the lengths\n",
        "        '''\n",
        "        sns.histplot(data=self.lengths, kde=True)\n",
        "        plt.show()\n",
        "\n",
        "    def _find_max_and_store_length(self):\n",
        "        '''\n",
        "        this function finds the lengths of all of the data and also find maximum length\n",
        "        lengths of smiles strings store in the self.lengths variable and maximum length store in self.max_length\n",
        "        '''\n",
        "        for string in self.smiles:\n",
        "            l = Dataset_BBBP.tokenize(string)\n",
        "            if len(l) > self.max_length :\n",
        "                self.max_length = len(l)\n",
        "            self.lengths.append(len(l))\n",
        "\n",
        "    def _padding(self):\n",
        "        '''\n",
        "        add padding to both sides of the smiles string in order to all of the strings have same sizes.\n",
        "        '''\n",
        "\n",
        "        for string in self.smiles:\n",
        "            new_string = string\n",
        "            l = Dataset_BBBP.tokenize(string)\n",
        "            if len(l) < self.max_length :\n",
        "                i = len(l)\n",
        "                while i < self.max_length:\n",
        "                    new_string =  '<pad>' + new_string\n",
        "                    i += 1\n",
        "                self.smiles.replace(string, new_string, inplace=True)\n",
        "\n",
        "    @staticmethod\n",
        "    def combine_dicts(dict1, dict2):\n",
        "        combined = {}\n",
        "\n",
        "        for key in dict1:\n",
        "            combined[key] = dict1[key]\n",
        "\n",
        "        # Add items from the second dict, combining values where keys match\n",
        "        for key in dict2:\n",
        "            if key in combined:\n",
        "                combined[key] += dict2[key]\n",
        "            else:\n",
        "                combined[key] = dict2[key]\n",
        "\n",
        "        return combined\n",
        "\n",
        "    @staticmethod\n",
        "    def tokenize(s):\n",
        "        '''\n",
        "        this function tokenize input smiles\n",
        "        '''\n",
        "        spec_items_list = ['Cl', 'Br', 'Na', 'Ca', '@@']\n",
        "        l = re.split('(<pad>)', s)\n",
        "        for char in spec_items_list:\n",
        "            temp_list = []\n",
        "            for i in range(len(l)):\n",
        "                temp_list += re.split(f'({char})', l[i])\n",
        "            l = temp_list\n",
        "        try:\n",
        "            l.remove('')\n",
        "        except:\n",
        "            pass\n",
        "        tokens = []\n",
        "\n",
        "        spec_items_list.append('<pad>')\n",
        "        for item in l:\n",
        "\n",
        "            if item not in spec_items_list:\n",
        "                tokens += list(item)\n",
        "            else:\n",
        "                tokens.append(item)\n",
        "        return tokens\n",
        "\n",
        "\n",
        "    def _calc_tokens_freq_and_vals(self):\n",
        "        '''\n",
        "        this function firt call _padding function and then compute tokens frequency and dictionary which is stored in token_to_val dictionary\n",
        "        '''\n",
        "        self._padding()\n",
        "        counter = Dataset_BBBP.combine_dicts(Counter(Dataset_BBBP.tokenize(self.smiles.iloc[0])),\n",
        "                                             Counter(Dataset_BBBP.tokenize(self.smiles.iloc[1])))\n",
        "        for i in range(2, len(self.smiles)):\n",
        "            counter = Dataset_BBBP.combine_dicts(counter,\n",
        "                                                 Counter(Dataset_BBBP.tokenize(self.smiles.iloc[i])))\n",
        "\n",
        "        self.tokens_freq = dict(sorted(counter.items(), key=lambda item: item[1], reverse=True))\n",
        "        self.token_to_val = {char: idx for idx, char in enumerate(self.tokens_freq.keys())}\n",
        "\n",
        "    def get_tokens_freq(self):\n",
        "\n",
        "        return self.tokens_freq\n",
        "\n",
        "    def _one_hot(self, x):\n",
        "        '''\n",
        "        this function gets x and then tokenize it by calling tokenize\n",
        "        then compute one-hot encoded of strings\n",
        "        '''\n",
        "\n",
        "        num_classes = len(self.token_to_val)\n",
        "        tokens = Dataset_BBBP.tokenize(x)\n",
        "       # print(tokens)\n",
        "        tokens_nums = [self.token_to_val[token] for token in tokens]\n",
        "        return F.one_hot(torch.tensor(tokens_nums), num_classes)\n",
        "\n",
        "    def __getitem__(self, idx):\n",
        "        smiles_enc = self._one_hot(self.smiles.iloc[idx])\n",
        "        label = torch.tensor([self.labels.iloc[idx]])\n",
        "\n",
        "        return smiles_enc, label\n",
        "\n",
        "\n"
      ],
      "metadata": {
        "id": "Bp1in6e1a-je",
        "execution": {
          "iopub.status.busy": "2024-01-06T05:52:55.018804Z",
          "iopub.execute_input": "2024-01-06T05:52:55.019135Z",
          "iopub.status.idle": "2024-01-06T05:52:55.041762Z",
          "shell.execute_reply.started": "2024-01-06T05:52:55.019107Z",
          "shell.execute_reply": "2024-01-06T05:52:55.040832Z"
        },
        "trusted": true
      },
      "execution_count": null,
      "outputs": []
    },
    {
      "cell_type": "code",
      "source": [
        "dataset = Dataset_BBBP(data_path)"
      ],
      "metadata": {
        "colab": {
          "base_uri": "https://localhost:8080/",
          "height": 273
        },
        "id": "OweQsfX6a-me",
        "outputId": "ac9418f9-9618-454d-9e56-85c852496b0d",
        "execution": {
          "iopub.status.busy": "2024-01-06T05:52:55.042833Z",
          "iopub.execute_input": "2024-01-06T05:52:55.043118Z",
          "iopub.status.idle": "2024-01-06T05:53:06.925986Z",
          "shell.execute_reply.started": "2024-01-06T05:52:55.043093Z",
          "shell.execute_reply": "2024-01-06T05:53:06.925104Z"
        },
        "trusted": true
      },
      "execution_count": null,
      "outputs": [
        {
          "name": "stdout",
          "text": "the first 5 data of the dataset without padding\n------------------------------------------------\n",
          "output_type": "stream"
        },
        {
          "output_type": "display_data",
          "data": {
            "text/plain": "                     name  p_np  \\\nnum                               \n1              Propanolol     1   \n2    Terbutylchlorambucil     1   \n3                   40730     1   \n4                      24     1   \n5             cloxacillin     1   \n\n                                                smiles  \nnum                                                     \n1                     [Cl].CC(C)NCC(O)COc1cccc2ccccc12  \n2             C(=O)(OC(C)(C)C)CCCc1ccc(cc1)N(CCCl)CCCl  \n3    c12c3c(N4CCN(C)CC4)c(F)cc1c(c(C(O)=O)cn2C(C)CO...  \n4                     C1CCN(CC1)Cc1cccc(c1)OCCCNC(=O)C  \n5    Cc1onc(c2ccccc2Cl)c1C(=O)N[C@H]3[C@H]4SC(C)(C)...  ",
            "text/html": "<div>\n<style scoped>\n    .dataframe tbody tr th:only-of-type {\n        vertical-align: middle;\n    }\n\n    .dataframe tbody tr th {\n        vertical-align: top;\n    }\n\n    .dataframe thead th {\n        text-align: right;\n    }\n</style>\n<table border=\"1\" class=\"dataframe\">\n  <thead>\n    <tr style=\"text-align: right;\">\n      <th></th>\n      <th>name</th>\n      <th>p_np</th>\n      <th>smiles</th>\n    </tr>\n    <tr>\n      <th>num</th>\n      <th></th>\n      <th></th>\n      <th></th>\n    </tr>\n  </thead>\n  <tbody>\n    <tr>\n      <th>1</th>\n      <td>Propanolol</td>\n      <td>1</td>\n      <td>[Cl].CC(C)NCC(O)COc1cccc2ccccc12</td>\n    </tr>\n    <tr>\n      <th>2</th>\n      <td>Terbutylchlorambucil</td>\n      <td>1</td>\n      <td>C(=O)(OC(C)(C)C)CCCc1ccc(cc1)N(CCCl)CCCl</td>\n    </tr>\n    <tr>\n      <th>3</th>\n      <td>40730</td>\n      <td>1</td>\n      <td>c12c3c(N4CCN(C)CC4)c(F)cc1c(c(C(O)=O)cn2C(C)CO...</td>\n    </tr>\n    <tr>\n      <th>4</th>\n      <td>24</td>\n      <td>1</td>\n      <td>C1CCN(CC1)Cc1cccc(c1)OCCCNC(=O)C</td>\n    </tr>\n    <tr>\n      <th>5</th>\n      <td>cloxacillin</td>\n      <td>1</td>\n      <td>Cc1onc(c2ccccc2Cl)c1C(=O)N[C@H]3[C@H]4SC(C)(C)...</td>\n    </tr>\n  </tbody>\n</table>\n</div>"
          },
          "metadata": {}
        }
      ]
    },
    {
      "cell_type": "code",
      "source": [
        "print(f'length of the dataset = {len(dataset)}')\n"
      ],
      "metadata": {
        "colab": {
          "base_uri": "https://localhost:8080/"
        },
        "id": "eRhbpneFa-rt",
        "outputId": "01b06604-f22a-4b82-c60d-1bcf22eb2857",
        "execution": {
          "iopub.status.busy": "2024-01-06T05:53:06.929031Z",
          "iopub.execute_input": "2024-01-06T05:53:06.929748Z",
          "iopub.status.idle": "2024-01-06T05:53:06.934776Z",
          "shell.execute_reply.started": "2024-01-06T05:53:06.929708Z",
          "shell.execute_reply": "2024-01-06T05:53:06.933928Z"
        },
        "trusted": true
      },
      "execution_count": null,
      "outputs": [
        {
          "name": "stdout",
          "text": "length of the dataset = 2050\n",
          "output_type": "stream"
        }
      ]
    },
    {
      "cell_type": "markdown",
      "source": [
        "**distribution of data lengths**"
      ],
      "metadata": {
        "id": "yDoY-Fz53aNt"
      }
    },
    {
      "cell_type": "code",
      "source": [
        "dataset.plot_distribution()"
      ],
      "metadata": {
        "colab": {
          "base_uri": "https://localhost:8080/",
          "height": 430
        },
        "id": "h4cyLtu7a-uQ",
        "outputId": "9e334a35-ba90-479a-d79e-1bc3d00c6aeb",
        "execution": {
          "iopub.status.busy": "2024-01-06T05:53:06.935932Z",
          "iopub.execute_input": "2024-01-06T05:53:06.936188Z",
          "iopub.status.idle": "2024-01-06T05:53:07.398430Z",
          "shell.execute_reply.started": "2024-01-06T05:53:06.936155Z",
          "shell.execute_reply": "2024-01-06T05:53:07.397434Z"
        },
        "trusted": true
      },
      "execution_count": null,
      "outputs": [
        {
          "name": "stderr",
          "text": "/opt/conda/lib/python3.10/site-packages/seaborn/_oldcore.py:1119: FutureWarning: use_inf_as_na option is deprecated and will be removed in a future version. Convert inf values to NaN before operating instead.\n  with pd.option_context('mode.use_inf_as_na', True):\n",
          "output_type": "stream"
        },
        {
          "output_type": "display_data",
          "data": {
            "text/plain": "<Figure size 640x480 with 1 Axes>",
            "image/png": "[encoded data removed]"
          },
          "metadata": {}
        }
      ]
    },
    {
      "cell_type": "markdown",
      "source": [
        "همانگونه که ملاحظه می گردد طول رشته های دیتاست بالانس نیست. برای همین در کلاس دیتاست به آنها پد اضافه شده است"
      ],
      "metadata": {
        "id": "vEEtR-p23jn9"
      }
    },
    {
      "cell_type": "code",
      "source": [
        "l = dataset.get_tokens_freq()\n",
        "print('frequency of each tokens. note that <pad> is additional token for padding.')\n",
        "print(l)\n"
      ],
      "metadata": {
        "colab": {
          "base_uri": "https://localhost:8080/"
        },
        "id": "pEhine3f2s35",
        "outputId": "cf2bf5ce-13fd-4b5c-eca8-675596b3c7c5",
        "execution": {
          "iopub.status.busy": "2024-01-06T05:53:07.399455Z",
          "iopub.execute_input": "2024-01-06T05:53:07.399725Z",
          "iopub.status.idle": "2024-01-06T05:53:07.404824Z",
          "shell.execute_reply.started": "2024-01-06T05:53:07.399702Z",
          "shell.execute_reply": "2024-01-06T05:53:07.403949Z"
        },
        "trusted": true
      },
      "execution_count": null,
      "outputs": [
        {
          "name": "stdout",
          "text": "frequency of each tokens. note that <pad> is additional token for padding.\n{'<pad>': 683620, 'C': 29783, '(': 10491, ')': 10491, '=': 8034, 'c': 6937, 'O': 6208, '1': 4128, 'N': 3933, '[': 3479, ']': 3479, '2': 3370, '3': 2553, 'H': 2392, '@': 1692, '4': 1438, '@@': 1251, 'Cl': 618, 'n': 515, 'S': 510, 'F': 509, '5': 454, '\\\\': 203, '/': 184, '.': 163, '6': 124, '-': 123, '+': 121, 's': 72, '7': 56, '#': 53, 'Br': 51, 'o': 49, '8': 28, '%': 24, 'Na': 21, '9': 16, 'P': 11, '0': 8, 'I': 6, 'Ca': 1, 'B': 1}\n",
          "output_type": "stream"
        }
      ]
    },
    {
      "cell_type": "code",
      "source": [
        "print('Vocabulary:')\n",
        "print(dataset.token_to_val)"
      ],
      "metadata": {
        "colab": {
          "base_uri": "https://localhost:8080/"
        },
        "id": "ZL_DofjqJxJJ",
        "outputId": "d0b446a1-0e64-4a4d-c3a5-71da2fa0f451",
        "execution": {
          "iopub.status.busy": "2024-01-06T05:53:07.405917Z",
          "iopub.execute_input": "2024-01-06T05:53:07.406186Z",
          "iopub.status.idle": "2024-01-06T05:53:07.416030Z",
          "shell.execute_reply.started": "2024-01-06T05:53:07.406153Z",
          "shell.execute_reply": "2024-01-06T05:53:07.415034Z"
        },
        "trusted": true
      },
      "execution_count": null,
      "outputs": [
        {
          "name": "stdout",
          "text": "Vocabulary:\n{'<pad>': 0, 'C': 1, '(': 2, ')': 3, '=': 4, 'c': 5, 'O': 6, '1': 7, 'N': 8, '[': 9, ']': 10, '2': 11, '3': 12, 'H': 13, '@': 14, '4': 15, '@@': 16, 'Cl': 17, 'n': 18, 'S': 19, 'F': 20, '5': 21, '\\\\': 22, '/': 23, '.': 24, '6': 25, '-': 26, '+': 27, 's': 28, '7': 29, '#': 30, 'Br': 31, 'o': 32, '8': 33, '%': 34, 'Na': 35, '9': 36, 'P': 37, '0': 38, 'I': 39, 'Ca': 40, 'B': 41}\n",
          "output_type": "stream"
        }
      ]
    },
    {
      "cell_type": "code",
      "source": [
        "#split dataset\n",
        "gen = torch.Generator().manual_seed(42)\n",
        "train_size = 1600\n",
        "test_size, validation_size = 225, 225\n",
        "train_dataset, validation_dataset, test_dataset = random_split(dataset, [train_size, validation_size, test_size], generator=gen)\n",
        "len(train_dataset), len(test_dataset), len(validation_dataset)"
      ],
      "metadata": {
        "colab": {
          "base_uri": "https://localhost:8080/"
        },
        "id": "qIlfyZXBKDAa",
        "outputId": "8f85dfc2-0f53-46a2-de5e-fe8250650887",
        "execution": {
          "iopub.status.busy": "2024-01-06T05:53:07.417191Z",
          "iopub.execute_input": "2024-01-06T05:53:07.417520Z",
          "iopub.status.idle": "2024-01-06T05:53:07.443591Z",
          "shell.execute_reply.started": "2024-01-06T05:53:07.417488Z",
          "shell.execute_reply": "2024-01-06T05:53:07.442604Z"
        },
        "trusted": true
      },
      "execution_count": null,
      "outputs": [
        {
          "execution_count": 9,
          "output_type": "execute_result",
          "data": {
            "text/plain": "(1600, 225, 225)"
          },
          "metadata": {}
        }
      ]
    },
    {
      "cell_type": "code",
      "source": [
        "#dataloaders\n",
        "train_loader = DataLoader(train_dataset, batch_size=50, shuffle=True)\n",
        "validation_loader = DataLoader(validation_dataset, batch_size=225, shuffle=False)\n",
        "test_loader = DataLoader(test_dataset, batch_size=225, shuffle=False)"
      ],
      "metadata": {
        "id": "TRIkXjedGJJS",
        "execution": {
          "iopub.status.busy": "2024-01-06T05:53:07.444778Z",
          "iopub.execute_input": "2024-01-06T05:53:07.445049Z",
          "iopub.status.idle": "2024-01-06T05:53:07.450034Z",
          "shell.execute_reply.started": "2024-01-06T05:53:07.445025Z",
          "shell.execute_reply": "2024-01-06T05:53:07.449176Z"
        },
        "trusted": true
      },
      "execution_count": null,
      "outputs": []
    },
    {
      "cell_type": "code",
      "source": [
        "# Assume 'dataset' is your PyTorch Dataset object\n",
        "labels = [int(label) for _, label in train_dataset]\n",
        "train_stat = Counter(labels)\n",
        "labels = [int(label) for _, label in test_dataset]\n",
        "test_stat = Counter(labels)\n",
        "labels = [int(label) for _, label in validation_dataset]\n",
        "val_stat = Counter(labels)\n",
        "print(f'train stat={train_stat}, validation stat={val_stat}, test stat={test_stat}')"
      ],
      "metadata": {
        "colab": {
          "base_uri": "https://localhost:8080/"
        },
        "id": "IbSQPI-kEzG7",
        "outputId": "e4528f9f-f4cf-49a0-de2c-e92436f1870d",
        "execution": {
          "iopub.status.busy": "2024-01-06T05:53:07.451125Z",
          "iopub.execute_input": "2024-01-06T05:53:07.451419Z",
          "iopub.status.idle": "2024-01-06T05:53:18.261495Z",
          "shell.execute_reply.started": "2024-01-06T05:53:07.451394Z",
          "shell.execute_reply": "2024-01-06T05:53:18.260427Z"
        },
        "trusted": true
      },
      "execution_count": null,
      "outputs": [
        {
          "name": "stdout",
          "text": "train stat=Counter({1: 1231, 0: 369}), validation stat=Counter({1: 161, 0: 64}), test stat=Counter({1: 175, 0: 50})\n",
          "output_type": "stream"
        }
      ]
    },
    {
      "cell_type": "markdown",
      "source": [
        "#train FC model"
      ],
      "metadata": {
        "id": "_LNeik2rTkiY"
      }
    },
    {
      "cell_type": "code",
      "source": [
        "class FcModel(nn.Module):\n",
        "    def __init__(self, num_inputs, num_hiddens, num_outputs):\n",
        "        super().__init__()\n",
        "\n",
        "        self.layer1 = nn.Linear(in_features=num_inputs, out_features=num_hiddens)\n",
        "        self.layer2 = nn.Linear(in_features=num_hiddens, out_features=num_outputs)\n",
        "        self.relu = nn.ReLU()\n",
        "\n",
        "    def forward(self, x):\n",
        "        return self.layer2(self.relu(self.layer1(x)))"
      ],
      "metadata": {
        "id": "I6otuYKDAcxk",
        "execution": {
          "iopub.status.busy": "2024-01-06T05:53:18.263010Z",
          "iopub.execute_input": "2024-01-06T05:53:18.263309Z",
          "iopub.status.idle": "2024-01-06T05:53:18.269524Z",
          "shell.execute_reply.started": "2024-01-06T05:53:18.263283Z",
          "shell.execute_reply": "2024-01-06T05:53:18.268442Z"
        },
        "trusted": true
      },
      "execution_count": null,
      "outputs": []
    },
    {
      "cell_type": "code",
      "source": [
        "fc_model = FcModel(42, 500, 1).to(device)"
      ],
      "metadata": {
        "id": "T_a4ztZkUCZu",
        "execution": {
          "iopub.status.busy": "2024-01-06T05:53:18.270599Z",
          "iopub.execute_input": "2024-01-06T05:53:18.270933Z",
          "iopub.status.idle": "2024-01-06T05:53:18.437603Z",
          "shell.execute_reply.started": "2024-01-06T05:53:18.270909Z",
          "shell.execute_reply": "2024-01-06T05:53:18.436812Z"
        },
        "trusted": true
      },
      "execution_count": null,
      "outputs": []
    },
    {
      "cell_type": "code",
      "source": [
        "criterion = nn.BCEWithLogitsLoss()\n",
        "optimizer = optim.Adam(fc_model.parameters(), lr=0.001)"
      ],
      "metadata": {
        "id": "w0d56TdIUCjF",
        "execution": {
          "iopub.status.busy": "2024-01-06T05:53:18.441061Z",
          "iopub.execute_input": "2024-01-06T05:53:18.441365Z",
          "iopub.status.idle": "2024-01-06T05:53:18.446446Z",
          "shell.execute_reply.started": "2024-01-06T05:53:18.441340Z",
          "shell.execute_reply": "2024-01-06T05:53:18.445521Z"
        },
        "trusted": true
      },
      "execution_count": null,
      "outputs": []
    },
    {
      "cell_type": "code",
      "source": [
        "#training loop\n",
        "import gc\n",
        "torch.manual_seed(42)\n",
        "\n",
        "num_epochs = 20\n",
        "misclassified = []\n",
        "for epoch in range(num_epochs):\n",
        "    fc_model.train()\n",
        "    train_loss = 0.\n",
        "    train_acc = 0.\n",
        "    correct_pred = 0.\n",
        "\n",
        "    for i, (smiles, label) in enumerate(iter(train_loader)):\n",
        "        smiles_vector= torch.mean(smiles.to(dtype=torch.float32), dim=1)\n",
        "        smiles_vector, label = smiles_vector.to(device), label.to(device, dtype=torch.float32)\n",
        "\n",
        "        out = fc_model(smiles_vector)\n",
        "        preds = torch.round(torch.sigmoid(out))\n",
        "\n",
        "        correct_pred += (preds == label).float().prod(dim=1).sum()\n",
        "\n",
        "        loss = criterion(out, label)\n",
        "        train_loss += loss\n",
        "\n",
        "        optimizer.zero_grad()\n",
        "        loss.backward()\n",
        "        optimizer.step()\n",
        "\n",
        "        del smiles_vector, label, out\n",
        "        if device == 'cuda':\n",
        "            torch.cuda.empty_cache()\n",
        "            gc.collect()\n",
        "\n",
        "    train_acc = correct_pred / len(train_dataset)\n",
        "    if epoch % 10 == 9:\n",
        "        print(f\"epoch{epoch}: train loss = {train_loss}, train accuracy = {train_acc}\")"
      ],
      "metadata": {
        "colab": {
          "base_uri": "https://localhost:8080/"
        },
        "id": "5ewlBZp7WHV-",
        "outputId": "a4ad5ebf-6a26-4900-bfbe-d8b6d353ea6a",
        "execution": {
          "iopub.status.busy": "2024-01-06T05:53:18.447781Z",
          "iopub.execute_input": "2024-01-06T05:53:18.448029Z",
          "iopub.status.idle": "2024-01-06T05:57:33.461106Z",
          "shell.execute_reply.started": "2024-01-06T05:53:18.448006Z",
          "shell.execute_reply": "2024-01-06T05:57:33.460181Z"
        },
        "trusted": true
      },
      "execution_count": null,
      "outputs": [
        {
          "name": "stdout",
          "text": "epoch9: train loss = 14.684061050415039, train accuracy = 0.7918750047683716\nepoch19: train loss = 12.330262184143066, train accuracy = 0.8224999904632568\n",
          "output_type": "stream"
        }
      ]
    },
    {
      "cell_type": "code",
      "source": [
        "#validation\n",
        "\n",
        "val_acc = 0.\n",
        "val_loss = 0.\n",
        "val_roc = 0.\n",
        "fc_model.eval()\n",
        "\n",
        "for smiles, label in iter(validation_loader):\n",
        "    smiles_vector = torch.mean(smiles.to(dtype=torch.float32), dim=1)\n",
        "    smiles_vector, label = smiles_vector.to(device), label.to(device, dtype=torch.float32)\n",
        "\n",
        "    with torch.inference_mode():\n",
        "        out = fc_model(smiles_vector)\n",
        "        preds = torch.round(torch.sigmoid(out))\n",
        "\n",
        "        loss = criterion(out, label)\n",
        "        val_loss += loss\n",
        "\n",
        "        val_acc = accuracy_score(label.cpu().numpy(), preds.cpu().numpy())\n",
        "        val_roc = roc_auc_score(label.cpu().numpy(), preds.cpu().numpy())\n",
        "\n",
        "        del smiles_vector, label, out\n",
        "        if device == 'cuda':\n",
        "            torch.cuda.empty_cache()\n",
        "            gc.collect()\n",
        "\n",
        "print(f'validation loss = {val_loss}, validation acc = {val_acc}, Area Under ROC = {val_roc}')\n"
      ],
      "metadata": {
        "colab": {
          "base_uri": "https://localhost:8080/"
        },
        "id": "4pa-XNr4WHZ8",
        "outputId": "48b3a66d-ce17-40c5-b032-85ed2d8ec615",
        "execution": {
          "iopub.status.busy": "2024-01-06T05:57:33.462537Z",
          "iopub.execute_input": "2024-01-06T05:57:33.463390Z",
          "iopub.status.idle": "2024-01-06T05:57:34.893299Z",
          "shell.execute_reply.started": "2024-01-06T05:57:33.463354Z",
          "shell.execute_reply": "2024-01-06T05:57:34.892204Z"
        },
        "trusted": true
      },
      "execution_count": null,
      "outputs": [
        {
          "name": "stdout",
          "text": "validation loss = 0.4222063720226288, validation acc = 0.8, Area Under ROC = 0.6578513198757764\n",
          "output_type": "stream"
        }
      ]
    },
    {
      "cell_type": "markdown",
      "source": [
        "#train LSTM model"
      ],
      "metadata": {
        "id": "qGGMf_7cpflw"
      }
    },
    {
      "cell_type": "code",
      "source": [
        "import torch.nn.init as init\n",
        "\n",
        "torch.manual_seed(40)\n",
        "class LstmModel(nn.Module):\n",
        "    def __init__(self, num_inputs, num_hiddens, lstm_num_layers=1, bidirectional=False):\n",
        "        super().__init__()\n",
        "        self.num_layers = lstm_num_layers\n",
        "        self.num_hiddens = num_hiddens\n",
        "        self.device = device\n",
        "        #self.embedding_matrix = nn.Parameter(torch.randn(num_inputs, embedding_dim))\n",
        "\n",
        "        self.lstm = nn.LSTM(input_size=num_inputs, hidden_size=num_hiddens, num_layers=self.num_layers,\n",
        "                            batch_first=True, bidirectional=bidirectional)\n",
        "        for name, param in self.lstm.named_parameters():\n",
        "            if 'weight' in name:\n",
        "                init.kaiming_normal_(param.data)\n",
        "            elif 'bias' in name:\n",
        "                init.constant_(param.data, 0)\n",
        "        d = 2 if bidirectional else 1\n",
        "        self.fc1 = nn.Linear(num_hiddens * d, 500)\n",
        "        self.fc2 = nn.Linear(500, 1)\n",
        "        self.dropout = nn.Dropout(0.2)\n",
        "        self.relu = nn.LeakyReLU()\n",
        "        self.flatten = nn.Flatten()\n",
        "        self.batch_norm = nn.BatchNorm1d(num_hiddens * d)\n",
        "\n",
        "    def forward(self, x):\n",
        "        #out = torch.matmul(x, self.embedding_matrix)\n",
        "        out, _ = self.lstm(x)\n",
        "        out = self.batch_norm(out.transpose(1, 2)).transpose(1, 2)\n",
        "        out = out[:, -1, :]\n",
        "\n",
        "        out = self.fc2(self.dropout(self.relu(self.fc1(self.flatten(out)))))\n",
        "\n",
        "        return out\n"
      ],
      "metadata": {
        "id": "tYSM2m3_Ac0E",
        "execution": {
          "iopub.status.busy": "2024-01-06T05:57:34.894510Z",
          "iopub.execute_input": "2024-01-06T05:57:34.894892Z",
          "iopub.status.idle": "2024-01-06T05:57:34.907785Z",
          "shell.execute_reply.started": "2024-01-06T05:57:34.894865Z",
          "shell.execute_reply": "2024-01-06T05:57:34.905819Z"
        },
        "trusted": true
      },
      "execution_count": null,
      "outputs": []
    },
    {
      "cell_type": "code",
      "source": [
        "lstm_model = LstmModel(42, 40, 1).to(device)\n",
        "criterion = nn.BCELoss()\n",
        "optimizer = optim.Adam(lstm_model.parameters(), lr=.001)\n"
      ],
      "metadata": {
        "id": "ick-piX7Ac47",
        "execution": {
          "iopub.status.busy": "2024-01-06T05:57:34.909120Z",
          "iopub.execute_input": "2024-01-06T05:57:34.909424Z",
          "iopub.status.idle": "2024-01-06T05:57:34.959604Z",
          "shell.execute_reply.started": "2024-01-06T05:57:34.909398Z",
          "shell.execute_reply": "2024-01-06T05:57:34.958755Z"
        },
        "trusted": true
      },
      "execution_count": null,
      "outputs": []
    },
    {
      "cell_type": "code",
      "source": [
        "#training loop\n",
        "import gc\n",
        "\n",
        "torch.manual_seed(45)\n",
        "#threshold = 0.5\n",
        "num_epochs = 40\n",
        "misclassified = []\n",
        "for epoch in range(num_epochs):\n",
        "    lstm_model.train()\n",
        "    train_loss = 0.\n",
        "    train_acc = 0.\n",
        "    correct_pred = 0\n",
        "\n",
        "    for i, (smiles, label) in enumerate(iter(train_loader)):\n",
        "\n",
        "        smiles, label = smiles.to(device, dtype=torch.float32), label.to(device, dtype=torch.float32)\n",
        "\n",
        "        out = lstm_model(smiles)\n",
        "        #print(f'out = {out}')\n",
        "\n",
        "        out = torch.sigmoid(out)\n",
        "        preds = torch.round(out)\n",
        "        #preds = (torch.sigmoid(out) >= threshold).float()\n",
        "\n",
        "        correct_pred += (preds == label).float().prod(dim=1).sum()\n",
        "\n",
        "        #wrong_indices = (preds != label).nonzero(as_tuple=True)[0]\n",
        "\n",
        "        loss = criterion(out, label)\n",
        "        train_loss += loss\n",
        "\n",
        "        optimizer.zero_grad()\n",
        "        loss.backward()\n",
        "        #clip_grad_norm_(lstm_model.parameters(), 1.)\n",
        "        optimizer.step()\n",
        "\n",
        "        #del smiles, label, out\n",
        "        if device == 'cuda':\n",
        "            torch.cuda.empty_cache()\n",
        "            gc.collect()\n",
        "    print(f'correct pred = {correct_pred}')\n",
        "    train_acc = correct_pred / len(train_dataset)\n",
        "    print(f\"epoch{epoch}: train loss = {train_loss}, train accuracy = {train_acc}\")"
      ],
      "metadata": {
        "colab": {
          "base_uri": "https://localhost:8080/",
          "height": 576
        },
        "id": "zqp99h0RAc7k",
        "outputId": "274eb096-b3fa-4016-d72c-803352795f65",
        "execution": {
          "iopub.status.busy": "2024-01-06T05:57:34.960861Z",
          "iopub.execute_input": "2024-01-06T05:57:34.961162Z",
          "iopub.status.idle": "2024-01-06T06:06:16.041237Z",
          "shell.execute_reply.started": "2024-01-06T05:57:34.961137Z",
          "shell.execute_reply": "2024-01-06T06:06:16.040273Z"
        },
        "trusted": true
      },
      "execution_count": null,
      "outputs": [
        {
          "name": "stdout",
          "text": "correct pred = 1204.0\nepoch0: train loss = 16.01415252685547, train accuracy = 0.7524999976158142\ncorrect pred = 1308.0\nepoch1: train loss = 12.374842643737793, train accuracy = 0.8174999952316284\ncorrect pred = 1360.0\nepoch2: train loss = 10.585294723510742, train accuracy = 0.8499999642372131\ncorrect pred = 1360.0\nepoch3: train loss = 10.049910545349121, train accuracy = 0.8499999642372131\ncorrect pred = 1390.0\nepoch4: train loss = 9.477068901062012, train accuracy = 0.8687499761581421\ncorrect pred = 1385.0\nepoch5: train loss = 9.689456939697266, train accuracy = 0.8656249642372131\ncorrect pred = 1418.0\nepoch6: train loss = 8.79857349395752, train accuracy = 0.8862499594688416\ncorrect pred = 1418.0\nepoch7: train loss = 8.474372863769531, train accuracy = 0.8862499594688416\ncorrect pred = 1437.0\nepoch8: train loss = 7.696201801300049, train accuracy = 0.8981249928474426\ncorrect pred = 1434.0\nepoch9: train loss = 7.894761562347412, train accuracy = 0.8962500095367432\ncorrect pred = 1445.0\nepoch10: train loss = 7.249528408050537, train accuracy = 0.903124988079071\ncorrect pred = 1459.0\nepoch11: train loss = 6.810174465179443, train accuracy = 0.9118749499320984\ncorrect pred = 1461.0\nepoch12: train loss = 6.73226261138916, train accuracy = 0.9131249785423279\ncorrect pred = 1467.0\nepoch13: train loss = 6.321739196777344, train accuracy = 0.9168750047683716\ncorrect pred = 1460.0\nepoch14: train loss = 6.238367080688477, train accuracy = 0.9124999642372131\ncorrect pred = 1494.0\nepoch15: train loss = 5.7780985832214355, train accuracy = 0.9337499737739563\ncorrect pred = 1476.0\nepoch16: train loss = 5.8716559410095215, train accuracy = 0.92249995470047\ncorrect pred = 1486.0\nepoch17: train loss = 5.81148624420166, train accuracy = 0.9287499785423279\ncorrect pred = 1497.0\nepoch18: train loss = 5.332010746002197, train accuracy = 0.9356249570846558\ncorrect pred = 1500.0\nepoch19: train loss = 4.949499130249023, train accuracy = 0.9375\ncorrect pred = 1494.0\nepoch20: train loss = 5.448668956756592, train accuracy = 0.9337499737739563\ncorrect pred = 1503.0\nepoch21: train loss = 4.7544169425964355, train accuracy = 0.9393749833106995\ncorrect pred = 1509.0\nepoch22: train loss = 4.487087726593018, train accuracy = 0.9431249499320984\ncorrect pred = 1513.0\nepoch23: train loss = 4.546985149383545, train accuracy = 0.9456250071525574\ncorrect pred = 1495.0\nepoch24: train loss = 4.871538162231445, train accuracy = 0.934374988079071\ncorrect pred = 1486.0\nepoch25: train loss = 4.879392623901367, train accuracy = 0.9287499785423279\ncorrect pred = 1525.0\nepoch26: train loss = 3.684842586517334, train accuracy = 0.953125\ncorrect pred = 1519.0\nepoch27: train loss = 3.8222882747650146, train accuracy = 0.9493749737739563\ncorrect pred = 1515.0\nepoch28: train loss = 3.8030343055725098, train accuracy = 0.9468749761581421\ncorrect pred = 1529.0\nepoch29: train loss = 3.6757915019989014, train accuracy = 0.9556249976158142\ncorrect pred = 1537.0\nepoch30: train loss = 3.0910263061523438, train accuracy = 0.9606249928474426\ncorrect pred = 1538.0\nepoch31: train loss = 3.0169525146484375, train accuracy = 0.9612500071525574\ncorrect pred = 1550.0\nepoch32: train loss = 2.61385440826416, train accuracy = 0.96875\ncorrect pred = 1545.0\nepoch33: train loss = 2.9123668670654297, train accuracy = 0.965624988079071\ncorrect pred = 1536.0\nepoch34: train loss = 3.121652841567993, train accuracy = 0.9599999785423279\ncorrect pred = 1538.0\nepoch35: train loss = 2.836609363555908, train accuracy = 0.9612500071525574\ncorrect pred = 1522.0\nepoch36: train loss = 3.795072317123413, train accuracy = 0.9512499570846558\ncorrect pred = 1552.0\nepoch37: train loss = 2.3669021129608154, train accuracy = 0.9699999690055847\ncorrect pred = 1554.0\nepoch38: train loss = 2.3315820693969727, train accuracy = 0.9712499976158142\ncorrect pred = 1558.0\nepoch39: train loss = 2.3344688415527344, train accuracy = 0.9737499952316284\n",
          "output_type": "stream"
        }
      ]
    },
    {
      "cell_type": "code",
      "source": [
        "#validation\n",
        "\n",
        "val_acc = 0.\n",
        "val_loss = 0.\n",
        "lstm_model.eval()\n",
        "\n",
        "for smiles, label in iter(validation_loader):\n",
        "    smiles, label = smiles.to(device, dtype=torch.float32), label.to(device, dtype=torch.float32)\n",
        "\n",
        "    with torch.inference_mode():\n",
        "        out = lstm_model(smiles)\n",
        "        out = torch.sigmoid(out)\n",
        "        preds = torch.round(out)\n",
        "\n",
        "        loss = criterion(out, label)\n",
        "        val_loss += loss\n",
        "\n",
        "        val_acc = accuracy_score(label.cpu().numpy(), preds.cpu().numpy())\n",
        "        val_roc = roc_auc_score(label.cpu().numpy(), preds.cpu().numpy())\n",
        "        del smiles, label, out\n",
        "        if device == 'cuda':\n",
        "            torch.cuda.empty_cache()\n",
        "            gc.collect()\n",
        "\n",
        "print(f'validation loss = {val_loss}, validation acc = {val_acc} , Area Under ROC = {val_roc}')"
      ],
      "metadata": {
        "colab": {
          "base_uri": "https://localhost:8080/"
        },
        "id": "PT1qrOEjtslP",
        "outputId": "59fb4313-2864-4343-c43f-dabcebe4356b",
        "execution": {
          "iopub.status.busy": "2024-01-06T06:06:16.042400Z",
          "iopub.execute_input": "2024-01-06T06:06:16.042704Z",
          "iopub.status.idle": "2024-01-06T06:06:17.423300Z",
          "shell.execute_reply.started": "2024-01-06T06:06:16.042679Z",
          "shell.execute_reply": "2024-01-06T06:06:17.422255Z"
        },
        "trusted": true
      },
      "execution_count": null,
      "outputs": [
        {
          "name": "stdout",
          "text": "validation loss = 0.4646974802017212, validation acc = 0.8711111111111111 , Area Under ROC = 0.820506599378882\n",
          "output_type": "stream"
        }
      ]
    },
    {
      "cell_type": "markdown",
      "source": [
        "#train BiLSTM Model"
      ],
      "metadata": {
        "id": "QxyeyxkIuZ9t"
      }
    },
    {
      "cell_type": "code",
      "source": [
        "bilstm_model = LstmModel(42, 40, bidirectional=True).to(device)\n",
        "criterion = nn.BCEWithLogitsLoss()\n",
        "optimizer = optim.Adam(bilstm_model.parameters(), lr=.001)"
      ],
      "metadata": {
        "id": "ecWvp97N-Z5y",
        "execution": {
          "iopub.status.busy": "2024-01-06T06:06:17.424776Z",
          "iopub.execute_input": "2024-01-06T06:06:17.425188Z",
          "iopub.status.idle": "2024-01-06T06:06:17.436211Z",
          "shell.execute_reply.started": "2024-01-06T06:06:17.425146Z",
          "shell.execute_reply": "2024-01-06T06:06:17.435128Z"
        },
        "trusted": true
      },
      "execution_count": null,
      "outputs": []
    },
    {
      "cell_type": "code",
      "source": [
        "#training loop\n",
        "import gc\n",
        "\n",
        "torch.manual_seed(42)\n",
        "\n",
        "num_epochs = 40\n",
        "\n",
        "for epoch in range(num_epochs):\n",
        "    bilstm_model.train()\n",
        "    train_loss = 0.\n",
        "    train_acc = 0.\n",
        "    correct_pred = 0\n",
        "\n",
        "    for smiles, label in iter(train_loader):\n",
        "\n",
        "        smiles, label = smiles.to(device, dtype=torch.float32), label.to(device, dtype=torch.float32)\n",
        "\n",
        "        out = bilstm_model(smiles)\n",
        "\n",
        "        preds = torch.round(torch.sigmoid(out))\n",
        "\n",
        "        correct_pred += (preds == label).float().prod(dim=1).sum()\n",
        "\n",
        "        loss = criterion(out, label)\n",
        "        train_loss += loss\n",
        "\n",
        "        optimizer.zero_grad()\n",
        "        loss.backward()\n",
        "\n",
        "        #clip_grad_norm_(bilstm_model.parameters(), 1.)\n",
        "\n",
        "        optimizer.step()\n",
        "\n",
        "        del smiles, label, out\n",
        "        if device == 'cuda':\n",
        "            torch.cuda.empty_cache()\n",
        "            gc.collect()\n",
        "    train_acc = correct_pred / len(train_dataset)\n",
        "    print(f\"epoch{epoch}: train loss = {train_loss}, train accuracy = {train_acc}\")"
      ],
      "metadata": {
        "colab": {
          "base_uri": "https://localhost:8080/",
          "height": 558
        },
        "id": "Tyy35R1v-Z86",
        "outputId": "38368cbf-87e4-4dcd-d685-2e55fc29c23a",
        "execution": {
          "iopub.status.busy": "2024-01-06T06:06:17.437722Z",
          "iopub.execute_input": "2024-01-06T06:06:17.438111Z",
          "iopub.status.idle": "2024-01-06T06:15:12.883185Z",
          "shell.execute_reply.started": "2024-01-06T06:06:17.438081Z",
          "shell.execute_reply": "2024-01-06T06:15:12.881665Z"
        },
        "trusted": true
      },
      "execution_count": null,
      "outputs": [
        {
          "name": "stdout",
          "text": "epoch0: train loss = 16.5483455657959, train accuracy = 0.7387499809265137\nepoch1: train loss = 12.956367492675781, train accuracy = 0.8062499761581421\nepoch2: train loss = 11.44437313079834, train accuracy = 0.8343749642372131\nepoch3: train loss = 10.42071533203125, train accuracy = 0.8549999594688416\nepoch4: train loss = 9.698394775390625, train accuracy = 0.8624999523162842\nepoch5: train loss = 9.637019157409668, train accuracy = 0.8700000047683716\nepoch6: train loss = 8.625213623046875, train accuracy = 0.8862499594688416\nepoch7: train loss = 8.087345123291016, train accuracy = 0.887499988079071\nepoch8: train loss = 7.67740535736084, train accuracy = 0.8956249952316284\nepoch9: train loss = 7.563499927520752, train accuracy = 0.9012500047683716\nepoch10: train loss = 7.2914557456970215, train accuracy = 0.9006249904632568\nepoch11: train loss = 6.6486945152282715, train accuracy = 0.9231249690055847\nepoch12: train loss = 6.383315563201904, train accuracy = 0.9124999642372131\nepoch13: train loss = 6.668883800506592, train accuracy = 0.9081249833106995\nepoch14: train loss = 6.116471767425537, train accuracy = 0.9287499785423279\nepoch15: train loss = 5.788670539855957, train accuracy = 0.9256249666213989\nepoch16: train loss = 5.562073707580566, train accuracy = 0.9281249642372131\nepoch17: train loss = 5.97267484664917, train accuracy = 0.9149999618530273\nepoch18: train loss = 5.555454730987549, train accuracy = 0.9293749928474426\nepoch19: train loss = 4.788741111755371, train accuracy = 0.9375\nepoch20: train loss = 4.607827186584473, train accuracy = 0.9399999976158142\nepoch21: train loss = 4.560334205627441, train accuracy = 0.9412499666213989\nepoch22: train loss = 4.713534355163574, train accuracy = 0.9356249570846558\nepoch23: train loss = 4.274346351623535, train accuracy = 0.9487499594688416\nepoch24: train loss = 4.052396774291992, train accuracy = 0.9456250071525574\nepoch25: train loss = 3.7874181270599365, train accuracy = 0.9524999856948853\nepoch26: train loss = 3.946122169494629, train accuracy = 0.9462499618530273\nepoch27: train loss = 4.268682479858398, train accuracy = 0.9449999928474426\nepoch28: train loss = 3.589240789413452, train accuracy = 0.9556249976158142\nepoch29: train loss = 3.3836958408355713, train accuracy = 0.9556249976158142\nepoch30: train loss = 3.4654173851013184, train accuracy = 0.9574999809265137\nepoch31: train loss = 2.766749382019043, train accuracy = 0.9637500047683716\nepoch32: train loss = 2.7116756439208984, train accuracy = 0.9637500047683716\nepoch33: train loss = 2.5619866847991943, train accuracy = 0.96937495470047\nepoch34: train loss = 2.484257459640503, train accuracy = 0.9699999690055847\nepoch35: train loss = 2.466825485229492, train accuracy = 0.9674999713897705\nepoch36: train loss = 2.38612961769104, train accuracy = 0.9681249856948853\nepoch37: train loss = 1.8599164485931396, train accuracy = 0.981249988079071\nepoch38: train loss = 1.7098994255065918, train accuracy = 0.9781249761581421\nepoch39: train loss = 1.7980260848999023, train accuracy = 0.9756249785423279\n",
          "output_type": "stream"
        }
      ]
    },
    {
      "cell_type": "code",
      "source": [
        "#validation\n",
        "\n",
        "val_acc = 0.\n",
        "val_loss = 0.\n",
        "bilstm_model.eval()\n",
        "\n",
        "for smiles, label in iter(validation_loader):\n",
        "    smiles, label = smiles.to(device, dtype=torch.float32), label.to(device, dtype=torch.float32)\n",
        "\n",
        "    with torch.inference_mode():\n",
        "        out = bilstm_model(smiles)\n",
        "        preds = torch.round(torch.sigmoid(out))\n",
        "\n",
        "        loss = criterion(out, label)\n",
        "        val_loss += loss\n",
        "\n",
        "        val_acc = accuracy_score(label.cpu().numpy(), preds.cpu().numpy())\n",
        "        val_roc = roc_auc_score(label.cpu().numpy(), preds.cpu().numpy())\n",
        "        del smiles, label, out\n",
        "        if device == 'cuda':\n",
        "            torch.cuda.empty_cache()\n",
        "            gc.collect()\n",
        "\n",
        "print(f'validation loss = {val_loss}, validation acc = {val_acc} , Area Under ROC = {val_roc}')"
      ],
      "metadata": {
        "colab": {
          "base_uri": "https://localhost:8080/"
        },
        "id": "O180BAULNNtW",
        "outputId": "e8d9c0cc-2d49-4d7b-b1d9-286397702257",
        "execution": {
          "iopub.status.busy": "2024-01-06T06:15:12.884845Z",
          "iopub.execute_input": "2024-01-06T06:15:12.885242Z",
          "iopub.status.idle": "2024-01-06T06:15:14.286482Z",
          "shell.execute_reply.started": "2024-01-06T06:15:12.885205Z",
          "shell.execute_reply": "2024-01-06T06:15:14.285484Z"
        },
        "trusted": true
      },
      "execution_count": null,
      "outputs": [
        {
          "name": "stdout",
          "text": "validation loss = 0.5697422027587891, validation acc = 0.8666666666666667 , Area Under ROC = 0.812694099378882\n",
          "output_type": "stream"
        }
      ]
    },
    {
      "cell_type": "markdown",
      "source": [
        "**Accuracy and AU ROC of both lstm and bilstm models are higher that FC model. lstm and bilstm models have almost same performance and we can see performance of the lstm model is a bit better. but why?**"
      ],
      "metadata": {
        "id": "n0LOvNuv4yHs"
      }
    },
    {
      "cell_type": "markdown",
      "source": [
        "**As wee saw above length of smiles strings are very imbalanced and we add padding to start of the strings. when we use bi-lstmو it checks the both sides of the strings. one layer that starts processing of strings from end of them, first see real pattern of molecules and then see lots of padding elements(\\<pad>\\) so for example if real length of data is 7, it sees 384-7=377 padding element so it forgets real molecule pattern. so bilstm does not help to improving performance of the model**"
      ],
      "metadata": {
        "id": "fYwyTPEC5ee8"
      }
    },
    {
      "cell_type": "code",
      "source": [
        "pad_tensor = torch.Tensor([1] + [0] * (42 - 1))\n",
        "pad_tensor = pad_tensor.unsqueeze(0)\n",
        "pad_tensors = pad_tensor.repeat(384, 1)\n",
        "TestData = []\n",
        "\n",
        "fc_model.eval()\n",
        "lstm_model.eval()\n",
        "bilstm_model.eval()\n",
        "\n",
        "for smiles, label in iter(test_loader):\n",
        "\n",
        "\n",
        "    smiles_vector = torch.mean(smiles.to(dtype=torch.float32), dim=1)\n",
        "    smiles_vector= smiles_vector.to(device)\n",
        "    smiles, label = smiles.to(device, dtype=torch.float32), label.to(device, dtype=torch.float32)\n",
        "\n",
        "    with torch.inference_mode():\n",
        "        out1 = fc_model(smiles_vector)\n",
        "        out2 = lstm_model(smiles)\n",
        "        out3 = bilstm_model(smiles)\n",
        "        preds1 = torch.round(torch.sigmoid(out1))\n",
        "        preds2 = torch.round(torch.sigmoid(out2))\n",
        "        preds3 = torch.round(torch.sigmoid(out3))\n",
        "    pad_tensors = pad_tensors.to(device)\n",
        "    for i in range(225):\n",
        "\n",
        "        l = 384 - (smiles[i] == pad_tensors).float().prod(dim=1).sum()\n",
        "        correct_preds1 = (preds1[i] == label[i]).int()\n",
        "        correct_preds2 = (preds2[i] == label[i]).int()\n",
        "        correct_preds3 = (preds3[i] == label[i]).int()\n",
        "\n",
        "        TestData.append([int(l), int(correct_preds1), int(correct_preds2), int(correct_preds3)])\n",
        "\n",
        "\n"
      ],
      "metadata": {
        "id": "lgr98-ix9nnf",
        "execution": {
          "iopub.status.busy": "2024-01-06T07:01:04.156027Z",
          "iopub.execute_input": "2024-01-06T07:01:04.156721Z",
          "iopub.status.idle": "2024-01-06T07:01:05.420868Z",
          "shell.execute_reply.started": "2024-01-06T07:01:04.156687Z",
          "shell.execute_reply": "2024-01-06T07:01:05.419859Z"
        },
        "trusted": true
      },
      "execution_count": null,
      "outputs": []
    },
    {
      "cell_type": "code",
      "source": [
        "# Sorting by Length\n",
        "TestData = sorted(TestData, key=lambda x: x[0])\n",
        "TestData"
      ],
      "metadata": {
        "id": "uKDl68_tzIwn",
        "colab": {
          "base_uri": "https://localhost:8080/"
        },
        "outputId": "d22241a5-d0d4-4cd2-d246-50a3d724a52e",
        "execution": {
          "iopub.status.busy": "2024-01-06T07:01:08.679428Z",
          "iopub.execute_input": "2024-01-06T07:01:08.680146Z",
          "iopub.status.idle": "2024-01-06T07:01:08.712288Z",
          "shell.execute_reply.started": "2024-01-06T07:01:08.680109Z",
          "shell.execute_reply": "2024-01-06T07:01:08.711218Z"
        },
        "trusted": true
      },
      "execution_count": null,
      "outputs": [
        {
          "execution_count": 38,
          "output_type": "execute_result",
          "data": {
            "text/plain": "[[5, 1, 1, 1],\n [5, 1, 1, 1],\n [5, 1, 1, 1],\n [7, 1, 1, 1],\n [8, 1, 1, 1],\n [8, 1, 1, 1],\n [8, 1, 1, 1],\n [8, 1, 1, 1],\n [10, 1, 1, 1],\n [12, 1, 1, 1],\n [12, 1, 1, 1],\n [14, 1, 1, 1],\n [16, 1, 1, 1],\n [17, 1, 1, 1],\n [17, 1, 1, 1],\n [18, 1, 1, 1],\n [19, 1, 0, 1],\n [19, 0, 0, 0],\n [20, 0, 0, 0],\n [20, 1, 1, 1],\n [21, 1, 1, 1],\n [21, 1, 1, 1],\n [22, 1, 1, 1],\n [22, 0, 1, 1],\n [22, 1, 1, 1],\n [22, 0, 0, 0],\n [23, 1, 1, 1],\n [23, 1, 1, 1],\n [23, 1, 1, 1],\n [23, 1, 1, 1],\n [24, 1, 1, 1],\n [25, 1, 1, 1],\n [26, 1, 1, 1],\n [26, 0, 0, 0],\n [26, 1, 1, 1],\n [26, 1, 1, 1],\n [26, 1, 1, 1],\n [27, 1, 0, 0],\n [27, 1, 1, 1],\n [27, 0, 0, 0],\n [28, 1, 1, 0],\n [28, 1, 1, 1],\n [28, 1, 1, 1],\n [28, 1, 1, 1],\n [28, 1, 1, 1],\n [29, 1, 1, 1],\n [29, 1, 0, 1],\n [30, 1, 1, 0],\n [30, 1, 1, 1],\n [30, 1, 1, 1],\n [30, 1, 1, 1],\n [30, 1, 1, 1],\n [30, 1, 1, 1],\n [30, 1, 1, 1],\n [30, 1, 1, 1],\n [31, 1, 1, 1],\n [31, 1, 1, 1],\n [31, 1, 1, 1],\n [31, 1, 1, 1],\n [31, 0, 0, 0],\n [31, 1, 1, 1],\n [31, 1, 1, 0],\n [31, 1, 0, 1],\n [32, 1, 1, 1],\n [32, 0, 1, 1],\n [32, 1, 1, 1],\n [33, 1, 1, 1],\n [33, 1, 1, 1],\n [33, 1, 1, 1],\n [33, 1, 1, 1],\n [33, 1, 0, 0],\n [33, 1, 1, 1],\n [33, 1, 1, 1],\n [33, 0, 1, 0],\n [34, 0, 0, 1],\n [34, 1, 1, 1],\n [34, 1, 1, 1],\n [34, 1, 1, 1],\n [34, 0, 0, 0],\n [34, 1, 1, 1],\n [35, 1, 1, 1],\n [35, 1, 1, 1],\n [35, 0, 1, 1],\n [35, 0, 0, 0],\n [36, 1, 1, 1],\n [36, 1, 1, 1],\n [37, 0, 0, 0],\n [37, 1, 1, 1],\n [37, 1, 1, 1],\n [37, 1, 1, 1],\n [37, 1, 1, 1],\n [38, 1, 1, 0],\n [38, 1, 1, 1],\n [38, 1, 1, 1],\n [38, 1, 1, 1],\n [39, 1, 1, 1],\n [39, 1, 1, 1],\n [39, 1, 1, 1],\n [39, 1, 1, 1],\n [39, 1, 1, 1],\n [39, 1, 1, 1],\n [40, 1, 1, 1],\n [40, 1, 1, 1],\n [40, 1, 1, 1],\n [40, 1, 1, 1],\n [41, 1, 1, 1],\n [41, 1, 1, 1],\n [41, 1, 1, 1],\n [41, 1, 1, 1],\n [41, 1, 1, 1],\n [41, 1, 1, 1],\n [41, 0, 1, 1],\n [42, 0, 0, 1],\n [42, 1, 1, 1],\n [43, 0, 1, 1],\n [43, 1, 1, 1],\n [43, 0, 0, 0],\n [43, 1, 1, 1],\n [44, 1, 0, 0],\n [44, 1, 1, 1],\n [44, 1, 1, 1],\n [44, 0, 0, 0],\n [44, 1, 1, 1],\n [45, 1, 1, 1],\n [45, 1, 1, 1],\n [45, 1, 1, 0],\n [45, 1, 1, 1],\n [45, 1, 1, 1],\n [45, 0, 0, 0],\n [45, 1, 1, 1],\n [46, 1, 1, 1],\n [46, 1, 1, 1],\n [46, 1, 1, 1],\n [46, 1, 1, 1],\n [46, 1, 1, 1],\n [46, 1, 1, 1],\n [47, 0, 1, 1],\n [47, 1, 1, 1],\n [47, 1, 1, 1],\n [47, 1, 1, 1],\n [47, 1, 1, 1],\n [48, 1, 1, 1],\n [48, 1, 1, 1],\n [49, 1, 1, 1],\n [49, 1, 1, 1],\n [50, 1, 1, 1],\n [50, 0, 1, 1],\n [50, 1, 1, 1],\n [51, 1, 1, 1],\n [52, 0, 0, 0],\n [53, 1, 1, 1],\n [53, 1, 1, 1],\n [53, 1, 0, 0],\n [53, 1, 1, 1],\n [54, 1, 1, 1],\n [55, 1, 1, 1],\n [55, 1, 0, 1],\n [55, 1, 1, 1],\n [55, 1, 1, 1],\n [55, 1, 1, 1],\n [56, 0, 1, 1],\n [57, 1, 1, 1],\n [57, 1, 1, 1],\n [57, 1, 1, 1],\n [58, 1, 1, 1],\n [59, 1, 1, 1],\n [60, 1, 1, 1],\n [60, 1, 1, 0],\n [61, 1, 0, 1],\n [61, 1, 1, 1],\n [61, 1, 1, 1],\n [62, 0, 1, 0],\n [63, 1, 1, 1],\n [63, 1, 1, 1],\n [63, 0, 1, 0],\n [63, 1, 1, 1],\n [64, 1, 1, 1],\n [66, 1, 1, 1],\n [67, 0, 1, 1],\n [67, 1, 1, 1],\n [67, 1, 1, 1],\n [67, 1, 1, 1],\n [67, 1, 1, 1],\n [67, 1, 1, 1],\n [67, 0, 1, 1],\n [68, 1, 1, 1],\n [68, 1, 1, 1],\n [69, 1, 1, 1],\n [70, 1, 1, 1],\n [70, 1, 1, 1],\n [70, 1, 1, 1],\n [71, 0, 1, 0],\n [71, 1, 1, 1],\n [72, 1, 1, 1],\n [73, 0, 1, 1],\n [75, 1, 1, 1],\n [76, 1, 1, 1],\n [76, 1, 1, 1],\n [78, 1, 1, 1],\n [79, 1, 1, 1],\n [80, 1, 1, 1],\n [82, 1, 1, 1],\n [84, 1, 1, 1],\n [84, 1, 1, 1],\n [85, 1, 1, 1],\n [89, 1, 1, 1],\n [89, 1, 1, 1],\n [90, 1, 1, 1],\n [90, 1, 1, 1],\n [93, 0, 0, 0],\n [94, 1, 1, 1],\n [94, 1, 1, 1],\n [95, 1, 1, 1],\n [95, 0, 1, 1],\n [95, 1, 1, 1],\n [96, 1, 1, 1],\n [97, 1, 1, 1],\n [101, 0, 1, 1],\n [104, 0, 1, 1],\n [107, 0, 1, 1],\n [116, 1, 1, 1],\n [139, 1, 1, 1],\n [147, 1, 1, 1],\n [170, 1, 1, 1],\n [195, 1, 1, 1]]"
          },
          "metadata": {}
        }
      ]
    },
    {
      "cell_type": "code",
      "source": [
        "lengths = list(np.array(TestData)[: ,0])\n",
        "bins = np.histogram(lengths, bins=10)[1]\n",
        "\n",
        "# This ensures that max and min values are placed correctly in bins\n",
        "bins[-1] += 1\n",
        "bins[0] -= 1\n",
        "print(f'Bins: {bins}')\n",
        "\n",
        "TestData_bins = [[], [], [], [], [], [], [], [], [], []]\n",
        "for i in range(len(TestData)):\n",
        "    for j in range(len(bins)-1):\n",
        "        if TestData[i][0] > bins[j] and  TestData[i][0] < bins[j+1]:\n",
        "            TestData_bins[j].append(TestData[i])\n",
        "\n"
      ],
      "metadata": {
        "execution": {
          "iopub.status.busy": "2024-01-06T07:41:09.050157Z",
          "iopub.execute_input": "2024-01-06T07:41:09.050530Z",
          "iopub.status.idle": "2024-01-06T07:41:09.061491Z",
          "shell.execute_reply.started": "2024-01-06T07:41:09.050499Z",
          "shell.execute_reply": "2024-01-06T07:41:09.060552Z"
        },
        "trusted": true,
        "id": "6p8EP8yv240K",
        "outputId": "2819fd02-a408-4ffc-9d09-c97255e65a13"
      },
      "execution_count": null,
      "outputs": [
        {
          "name": "stdout",
          "text": "Bins: [  4.  24.  43.  62.  81. 100. 119. 138. 157. 176. 196.]\n",
          "output_type": "stream"
        }
      ]
    },
    {
      "cell_type": "code",
      "source": [
        "bins_lengths = [len(bins) for bins in TestData_bins]\n",
        "fc_model_correctpreds_num = []\n",
        "lstm_model_correctpreds_num = []\n",
        "bilstm_model_correctpreds_num = []\n",
        "for i in range(len(TestData_bins)):\n",
        "    s1, s2, s3 = 0, 0, 0\n",
        "    for j in range(len(TestData_bins[i])):\n",
        "        s1 += TestData_bins[i][j][1]\n",
        "        s2 += TestData_bins[i][j][2]\n",
        "        s3 += TestData_bins[i][j][3]\n",
        "    fc_model_correctpreds_num.append(s1)\n",
        "    lstm_model_correctpreds_num.append(s2)\n",
        "    bilstm_model_correctpreds_num.append(s3)"
      ],
      "metadata": {
        "execution": {
          "iopub.status.busy": "2024-01-06T07:41:11.983662Z",
          "iopub.execute_input": "2024-01-06T07:41:11.984035Z",
          "iopub.status.idle": "2024-01-06T07:41:11.991067Z",
          "shell.execute_reply.started": "2024-01-06T07:41:11.984005Z",
          "shell.execute_reply": "2024-01-06T07:41:11.990114Z"
        },
        "trusted": true,
        "id": "vGlw1mF8240K"
      },
      "execution_count": null,
      "outputs": []
    },
    {
      "cell_type": "markdown",
      "source": [
        "**This plot shows lstm and bilstm have better performance in longer strings**"
      ],
      "metadata": {
        "id": "AsohuhCC9S6C"
      }
    },
    {
      "cell_type": "code",
      "source": [
        "labels = ['B1', 'B2', 'B3', 'B4', 'B5', 'B6', 'B7', 'B8', 'B9', 'B10']\n",
        "x = 10 * np.arange(len(labels))  # the label locations\n",
        "width = 2  # the width of the bars\n",
        "\n",
        "fig, ax = plt.subplots(figsize = (10, 8))\n",
        "rects1 = ax.bar(x - 2*width, bins_lengths, width, label='number of data')\n",
        "rects2 = ax.bar(x - width, fc_model_correctpreds_num, width, label='fc model correct predictions')\n",
        "rects3 = ax.bar(x, lstm_model_correctpreds_num, width, label='lstm model correct predictions')\n",
        "rects4 = ax.bar(x + width, bilstm_model_correctpreds_num, width, label='bilstm model correct predictions')\n",
        "\n",
        "ax.bar_label(rects1, padding=3)\n",
        "ax.bar_label(rects2, padding=3)\n",
        "ax.bar_label(rects3, padding=3)\n",
        "ax.bar_label(rects4, padding=3)\n",
        "\n",
        "ax.set_xticks(x, labels)\n",
        "ax.legend()\n",
        "fig.tight_layout()\n",
        "\n",
        "plt.show()"
      ],
      "metadata": {
        "execution": {
          "iopub.status.busy": "2024-01-06T07:41:14.033962Z",
          "iopub.execute_input": "2024-01-06T07:41:14.034914Z",
          "iopub.status.idle": "2024-01-06T07:41:14.743315Z",
          "shell.execute_reply.started": "2024-01-06T07:41:14.034878Z",
          "shell.execute_reply": "2024-01-06T07:41:14.742363Z"
        },
        "trusted": true,
        "id": "Vah7NkjX240K",
        "outputId": "1964040b-f7ae-4eec-c475-bdbbeedbd85b"
      },
      "execution_count": null,
      "outputs": [
        {
          "output_type": "display_data",
          "data": {
            "text/plain": "<Figure size 1000x800 with 1 Axes>",
            "image/png": "[encoded data removed]"
          },
          "metadata": {}
        }
      ]
    }
  ]
}